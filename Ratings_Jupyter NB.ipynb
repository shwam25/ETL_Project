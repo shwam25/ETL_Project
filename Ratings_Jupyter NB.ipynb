{
 "cells": [
  {
   "cell_type": "markdown",
   "metadata": {},
   "source": [
    "#### Import Packages"
   ]
  },
  {
   "cell_type": "code",
   "execution_count": 1,
   "metadata": {},
   "outputs": [],
   "source": [
    "import numpy as np\n",
    "import pandas as pd "
   ]
  },
  {
   "cell_type": "markdown",
   "metadata": {},
   "source": [
    "#### Import CSV files into pandas dataframes"
   ]
  },
  {
   "cell_type": "code",
   "execution_count": 2,
   "metadata": {},
   "outputs": [
    {
     "name": "stdout",
     "output_type": "stream",
     "text": [
      "Shape of dataset is (720, 10)\n"
     ]
    },
    {
     "data": {
      "text/html": [
       "<div>\n",
       "<style scoped>\n",
       "    .dataframe tbody tr th:only-of-type {\n",
       "        vertical-align: middle;\n",
       "    }\n",
       "\n",
       "    .dataframe tbody tr th {\n",
       "        vertical-align: top;\n",
       "    }\n",
       "\n",
       "    .dataframe thead th {\n",
       "        text-align: right;\n",
       "    }\n",
       "</style>\n",
       "<table border=\"1\" class=\"dataframe\">\n",
       "  <thead>\n",
       "    <tr style=\"text-align: right;\">\n",
       "      <th></th>\n",
       "      <th>asin</th>\n",
       "      <th>brand</th>\n",
       "      <th>title</th>\n",
       "      <th>url</th>\n",
       "      <th>image</th>\n",
       "      <th>rating</th>\n",
       "      <th>reviewUrl</th>\n",
       "      <th>totalReviews</th>\n",
       "      <th>price</th>\n",
       "      <th>originalPrice</th>\n",
       "    </tr>\n",
       "  </thead>\n",
       "  <tbody>\n",
       "    <tr>\n",
       "      <td>0</td>\n",
       "      <td>B0000SX2UC</td>\n",
       "      <td>NaN</td>\n",
       "      <td>Dual-Band / Tri-Mode Sprint PCS Phone w/ Voice...</td>\n",
       "      <td>https://www.amazon.com/Dual-Band-Tri-Mode-Acti...</td>\n",
       "      <td>https://m.media-amazon.com/images/I/2143EBQ210...</td>\n",
       "      <td>3.0</td>\n",
       "      <td>https://www.amazon.com/product-reviews/B0000SX2UC</td>\n",
       "      <td>14</td>\n",
       "      <td>0.00</td>\n",
       "      <td>0.0</td>\n",
       "    </tr>\n",
       "    <tr>\n",
       "      <td>1</td>\n",
       "      <td>B0009N5L7K</td>\n",
       "      <td>Motorola</td>\n",
       "      <td>Motorola I265 phone</td>\n",
       "      <td>https://www.amazon.com/Motorola-i265-I265-phon...</td>\n",
       "      <td>https://m.media-amazon.com/images/I/419WBAVDAR...</td>\n",
       "      <td>3.0</td>\n",
       "      <td>https://www.amazon.com/product-reviews/B0009N5L7K</td>\n",
       "      <td>7</td>\n",
       "      <td>49.95</td>\n",
       "      <td>0.0</td>\n",
       "    </tr>\n",
       "    <tr>\n",
       "      <td>2</td>\n",
       "      <td>B000SKTZ0S</td>\n",
       "      <td>Motorola</td>\n",
       "      <td>MOTOROLA C168i AT&amp;T CINGULAR PREPAID GOPHONE C...</td>\n",
       "      <td>https://www.amazon.com/MOTOROLA-C168i-CINGULAR...</td>\n",
       "      <td>https://m.media-amazon.com/images/I/71b+q3ydkI...</td>\n",
       "      <td>2.7</td>\n",
       "      <td>https://www.amazon.com/product-reviews/B000SKTZ0S</td>\n",
       "      <td>22</td>\n",
       "      <td>99.99</td>\n",
       "      <td>0.0</td>\n",
       "    </tr>\n",
       "    <tr>\n",
       "      <td>3</td>\n",
       "      <td>B001AO4OUC</td>\n",
       "      <td>Motorola</td>\n",
       "      <td>Motorola i335 Cell Phone Boost Mobile</td>\n",
       "      <td>https://www.amazon.com/Motorola-i335-Phone-Boo...</td>\n",
       "      <td>https://m.media-amazon.com/images/I/710UO8gdT+...</td>\n",
       "      <td>3.3</td>\n",
       "      <td>https://www.amazon.com/product-reviews/B001AO4OUC</td>\n",
       "      <td>21</td>\n",
       "      <td>0.00</td>\n",
       "      <td>0.0</td>\n",
       "    </tr>\n",
       "    <tr>\n",
       "      <td>4</td>\n",
       "      <td>B001DCJAJG</td>\n",
       "      <td>Motorola</td>\n",
       "      <td>Motorola V365 no contract cellular phone AT&amp;T</td>\n",
       "      <td>https://www.amazon.com/Motorola-V365-contract-...</td>\n",
       "      <td>https://m.media-amazon.com/images/I/61LYNCVrrK...</td>\n",
       "      <td>3.1</td>\n",
       "      <td>https://www.amazon.com/product-reviews/B001DCJAJG</td>\n",
       "      <td>12</td>\n",
       "      <td>149.99</td>\n",
       "      <td>0.0</td>\n",
       "    </tr>\n",
       "  </tbody>\n",
       "</table>\n",
       "</div>"
      ],
      "text/plain": [
       "         asin     brand                                              title  \\\n",
       "0  B0000SX2UC       NaN  Dual-Band / Tri-Mode Sprint PCS Phone w/ Voice...   \n",
       "1  B0009N5L7K  Motorola                                Motorola I265 phone   \n",
       "2  B000SKTZ0S  Motorola  MOTOROLA C168i AT&T CINGULAR PREPAID GOPHONE C...   \n",
       "3  B001AO4OUC  Motorola              Motorola i335 Cell Phone Boost Mobile   \n",
       "4  B001DCJAJG  Motorola      Motorola V365 no contract cellular phone AT&T   \n",
       "\n",
       "                                                 url  \\\n",
       "0  https://www.amazon.com/Dual-Band-Tri-Mode-Acti...   \n",
       "1  https://www.amazon.com/Motorola-i265-I265-phon...   \n",
       "2  https://www.amazon.com/MOTOROLA-C168i-CINGULAR...   \n",
       "3  https://www.amazon.com/Motorola-i335-Phone-Boo...   \n",
       "4  https://www.amazon.com/Motorola-V365-contract-...   \n",
       "\n",
       "                                               image  rating  \\\n",
       "0  https://m.media-amazon.com/images/I/2143EBQ210...     3.0   \n",
       "1  https://m.media-amazon.com/images/I/419WBAVDAR...     3.0   \n",
       "2  https://m.media-amazon.com/images/I/71b+q3ydkI...     2.7   \n",
       "3  https://m.media-amazon.com/images/I/710UO8gdT+...     3.3   \n",
       "4  https://m.media-amazon.com/images/I/61LYNCVrrK...     3.1   \n",
       "\n",
       "                                           reviewUrl  totalReviews   price  \\\n",
       "0  https://www.amazon.com/product-reviews/B0000SX2UC            14    0.00   \n",
       "1  https://www.amazon.com/product-reviews/B0009N5L7K             7   49.95   \n",
       "2  https://www.amazon.com/product-reviews/B000SKTZ0S            22   99.99   \n",
       "3  https://www.amazon.com/product-reviews/B001AO4OUC            21    0.00   \n",
       "4  https://www.amazon.com/product-reviews/B001DCJAJG            12  149.99   \n",
       "\n",
       "   originalPrice  \n",
       "0            0.0  \n",
       "1            0.0  \n",
       "2            0.0  \n",
       "3            0.0  \n",
       "4            0.0  "
      ]
     },
     "execution_count": 2,
     "metadata": {},
     "output_type": "execute_result"
    }
   ],
   "source": [
    "data_items = pd.read_csv('Resources/Items.csv')\n",
    "print('Shape of dataset is', data_items.shape)\n",
    "data_items.head()"
   ]
  },
  {
   "cell_type": "code",
   "execution_count": 3,
   "metadata": {},
   "outputs": [
    {
     "name": "stdout",
     "output_type": "stream",
     "text": [
      "Shape of dataset is (67986, 8)\n"
     ]
    },
    {
     "data": {
      "text/html": [
       "<div>\n",
       "<style scoped>\n",
       "    .dataframe tbody tr th:only-of-type {\n",
       "        vertical-align: middle;\n",
       "    }\n",
       "\n",
       "    .dataframe tbody tr th {\n",
       "        vertical-align: top;\n",
       "    }\n",
       "\n",
       "    .dataframe thead th {\n",
       "        text-align: right;\n",
       "    }\n",
       "</style>\n",
       "<table border=\"1\" class=\"dataframe\">\n",
       "  <thead>\n",
       "    <tr style=\"text-align: right;\">\n",
       "      <th></th>\n",
       "      <th>asin</th>\n",
       "      <th>name</th>\n",
       "      <th>rating</th>\n",
       "      <th>date</th>\n",
       "      <th>verified</th>\n",
       "      <th>title</th>\n",
       "      <th>body</th>\n",
       "      <th>helpfulVotes</th>\n",
       "    </tr>\n",
       "  </thead>\n",
       "  <tbody>\n",
       "    <tr>\n",
       "      <td>0</td>\n",
       "      <td>B0000SX2UC</td>\n",
       "      <td>Janet</td>\n",
       "      <td>3</td>\n",
       "      <td>11-Oct-05</td>\n",
       "      <td>False</td>\n",
       "      <td>Def not best, but not worst</td>\n",
       "      <td>I had the Samsung A600 for awhile which is abs...</td>\n",
       "      <td>1.0</td>\n",
       "    </tr>\n",
       "    <tr>\n",
       "      <td>1</td>\n",
       "      <td>B0000SX2UC</td>\n",
       "      <td>Luke Wyatt</td>\n",
       "      <td>1</td>\n",
       "      <td>7-Jan-04</td>\n",
       "      <td>False</td>\n",
       "      <td>Text Messaging Doesn't Work</td>\n",
       "      <td>Due to a software issue between Nokia and Spri...</td>\n",
       "      <td>17.0</td>\n",
       "    </tr>\n",
       "    <tr>\n",
       "      <td>2</td>\n",
       "      <td>B0000SX2UC</td>\n",
       "      <td>Brooke</td>\n",
       "      <td>5</td>\n",
       "      <td>30-Dec-03</td>\n",
       "      <td>False</td>\n",
       "      <td>Love This Phone</td>\n",
       "      <td>This is a great, reliable phone. I also purcha...</td>\n",
       "      <td>5.0</td>\n",
       "    </tr>\n",
       "    <tr>\n",
       "      <td>3</td>\n",
       "      <td>B0000SX2UC</td>\n",
       "      <td>amy m. teague</td>\n",
       "      <td>3</td>\n",
       "      <td>18-Mar-04</td>\n",
       "      <td>False</td>\n",
       "      <td>Love the Phone, BUT...!</td>\n",
       "      <td>I love the phone and all, because I really did...</td>\n",
       "      <td>1.0</td>\n",
       "    </tr>\n",
       "    <tr>\n",
       "      <td>4</td>\n",
       "      <td>B0000SX2UC</td>\n",
       "      <td>tristazbimmer</td>\n",
       "      <td>4</td>\n",
       "      <td>28-Aug-05</td>\n",
       "      <td>False</td>\n",
       "      <td>Great phone service and options, lousy case!</td>\n",
       "      <td>The phone has been great for every purpose it ...</td>\n",
       "      <td>1.0</td>\n",
       "    </tr>\n",
       "  </tbody>\n",
       "</table>\n",
       "</div>"
      ],
      "text/plain": [
       "         asin           name  rating       date  verified  \\\n",
       "0  B0000SX2UC          Janet       3  11-Oct-05     False   \n",
       "1  B0000SX2UC     Luke Wyatt       1   7-Jan-04     False   \n",
       "2  B0000SX2UC         Brooke       5  30-Dec-03     False   \n",
       "3  B0000SX2UC  amy m. teague       3  18-Mar-04     False   \n",
       "4  B0000SX2UC  tristazbimmer       4  28-Aug-05     False   \n",
       "\n",
       "                                          title  \\\n",
       "0                   Def not best, but not worst   \n",
       "1                   Text Messaging Doesn't Work   \n",
       "2                               Love This Phone   \n",
       "3                       Love the Phone, BUT...!   \n",
       "4  Great phone service and options, lousy case!   \n",
       "\n",
       "                                                body  helpfulVotes  \n",
       "0  I had the Samsung A600 for awhile which is abs...           1.0  \n",
       "1  Due to a software issue between Nokia and Spri...          17.0  \n",
       "2  This is a great, reliable phone. I also purcha...           5.0  \n",
       "3  I love the phone and all, because I really did...           1.0  \n",
       "4  The phone has been great for every purpose it ...           1.0  "
      ]
     },
     "execution_count": 3,
     "metadata": {},
     "output_type": "execute_result"
    }
   ],
   "source": [
    "data_reviews = pd.read_csv('Resources/Reviews.csv')\n",
    "print('Shape of dataset is', data_reviews.shape)\n",
    "#Round off average rating to 1 decimal place\n",
    "data_reviews=data_reviews.round({'rating':1})\n",
    "data_reviews.head()\n"
   ]
  },
  {
   "cell_type": "markdown",
   "metadata": {},
   "source": [
    "Since the data file Amazon_Unlocked_Mobile is large, we only get the required columns ProductName and Brand Name that are necessary for the analysis:"
   ]
  },
  {
   "cell_type": "code",
   "execution_count": 4,
   "metadata": {},
   "outputs": [
    {
     "name": "stdout",
     "output_type": "stream",
     "text": [
      "Shape of dataset is (413840, 2)\n"
     ]
    },
    {
     "data": {
      "text/html": [
       "<div>\n",
       "<style scoped>\n",
       "    .dataframe tbody tr th:only-of-type {\n",
       "        vertical-align: middle;\n",
       "    }\n",
       "\n",
       "    .dataframe tbody tr th {\n",
       "        vertical-align: top;\n",
       "    }\n",
       "\n",
       "    .dataframe thead th {\n",
       "        text-align: right;\n",
       "    }\n",
       "</style>\n",
       "<table border=\"1\" class=\"dataframe\">\n",
       "  <thead>\n",
       "    <tr style=\"text-align: right;\">\n",
       "      <th></th>\n",
       "      <th>Product Name</th>\n",
       "      <th>Brand Name</th>\n",
       "    </tr>\n",
       "  </thead>\n",
       "  <tbody>\n",
       "    <tr>\n",
       "      <td>0</td>\n",
       "      <td>\"CLEAR CLEAN ESN\" Sprint EPIC 4G Galaxy SPH-D7...</td>\n",
       "      <td>Samsung</td>\n",
       "    </tr>\n",
       "    <tr>\n",
       "      <td>1</td>\n",
       "      <td>\"CLEAR CLEAN ESN\" Sprint EPIC 4G Galaxy SPH-D7...</td>\n",
       "      <td>Samsung</td>\n",
       "    </tr>\n",
       "    <tr>\n",
       "      <td>2</td>\n",
       "      <td>\"CLEAR CLEAN ESN\" Sprint EPIC 4G Galaxy SPH-D7...</td>\n",
       "      <td>Samsung</td>\n",
       "    </tr>\n",
       "    <tr>\n",
       "      <td>3</td>\n",
       "      <td>\"CLEAR CLEAN ESN\" Sprint EPIC 4G Galaxy SPH-D7...</td>\n",
       "      <td>Samsung</td>\n",
       "    </tr>\n",
       "    <tr>\n",
       "      <td>4</td>\n",
       "      <td>\"CLEAR CLEAN ESN\" Sprint EPIC 4G Galaxy SPH-D7...</td>\n",
       "      <td>Samsung</td>\n",
       "    </tr>\n",
       "  </tbody>\n",
       "</table>\n",
       "</div>"
      ],
      "text/plain": [
       "                                        Product Name Brand Name\n",
       "0  \"CLEAR CLEAN ESN\" Sprint EPIC 4G Galaxy SPH-D7...    Samsung\n",
       "1  \"CLEAR CLEAN ESN\" Sprint EPIC 4G Galaxy SPH-D7...    Samsung\n",
       "2  \"CLEAR CLEAN ESN\" Sprint EPIC 4G Galaxy SPH-D7...    Samsung\n",
       "3  \"CLEAR CLEAN ESN\" Sprint EPIC 4G Galaxy SPH-D7...    Samsung\n",
       "4  \"CLEAR CLEAN ESN\" Sprint EPIC 4G Galaxy SPH-D7...    Samsung"
      ]
     },
     "execution_count": 4,
     "metadata": {},
     "output_type": "execute_result"
    }
   ],
   "source": [
    "data_Amazon_Unlocked_Mobile = pd.read_csv('Resources/Amazon_Unlocked_Mobile.csv', usecols=[0,1])\n",
    "print('Shape of dataset is', data_Amazon_Unlocked_Mobile.shape)\n",
    "data_Amazon_Unlocked_Mobile.head()"
   ]
  },
  {
   "cell_type": "code",
   "execution_count": 5,
   "metadata": {},
   "outputs": [
    {
     "data": {
      "text/plain": [
       "(67986, 8)"
      ]
     },
     "execution_count": 5,
     "metadata": {},
     "output_type": "execute_result"
    }
   ],
   "source": [
    "data_reviews.shape"
   ]
  },
  {
   "cell_type": "markdown",
   "metadata": {},
   "source": [
    "### Data exploration and cleanup"
   ]
  },
  {
   "cell_type": "markdown",
   "metadata": {},
   "source": [
    "#### Dropping the data with NaN records in the datasets"
   ]
  },
  {
   "cell_type": "code",
   "execution_count": 6,
   "metadata": {},
   "outputs": [
    {
     "data": {
      "text/plain": [
       "(27206, 8)"
      ]
     },
     "execution_count": 6,
     "metadata": {},
     "output_type": "execute_result"
    }
   ],
   "source": [
    "data_reviews.dropna(inplace=True)\n",
    "data_reviews.shape"
   ]
  },
  {
   "cell_type": "code",
   "execution_count": 7,
   "metadata": {},
   "outputs": [
    {
     "data": {
      "text/plain": [
       "(348669, 2)"
      ]
     },
     "execution_count": 7,
     "metadata": {},
     "output_type": "execute_result"
    }
   ],
   "source": [
    "data_Amazon_Unlocked_Mobile.dropna(inplace=True)\n",
    "data_Amazon_Unlocked_Mobile.shape"
   ]
  },
  {
   "cell_type": "code",
   "execution_count": 8,
   "metadata": {},
   "outputs": [
    {
     "data": {
      "text/plain": [
       "(716, 10)"
      ]
     },
     "execution_count": 8,
     "metadata": {},
     "output_type": "execute_result"
    }
   ],
   "source": [
    "data_items.dropna(inplace=True)\n",
    "data_items.shape"
   ]
  },
  {
   "cell_type": "code",
   "execution_count": 9,
   "metadata": {},
   "outputs": [
    {
     "data": {
      "text/html": [
       "<div>\n",
       "<style scoped>\n",
       "    .dataframe tbody tr th:only-of-type {\n",
       "        vertical-align: middle;\n",
       "    }\n",
       "\n",
       "    .dataframe tbody tr th {\n",
       "        vertical-align: top;\n",
       "    }\n",
       "\n",
       "    .dataframe thead th {\n",
       "        text-align: right;\n",
       "    }\n",
       "</style>\n",
       "<table border=\"1\" class=\"dataframe\">\n",
       "  <thead>\n",
       "    <tr style=\"text-align: right;\">\n",
       "      <th></th>\n",
       "      <th>asin</th>\n",
       "      <th>name</th>\n",
       "      <th>rating</th>\n",
       "      <th>date</th>\n",
       "      <th>verified</th>\n",
       "      <th>title</th>\n",
       "      <th>body</th>\n",
       "      <th>helpfulVotes</th>\n",
       "    </tr>\n",
       "  </thead>\n",
       "  <tbody>\n",
       "    <tr>\n",
       "      <td>0</td>\n",
       "      <td>B0000SX2UC</td>\n",
       "      <td>Janet</td>\n",
       "      <td>3</td>\n",
       "      <td>11-Oct-05</td>\n",
       "      <td>False</td>\n",
       "      <td>Def not best, but not worst</td>\n",
       "      <td>I had the Samsung A600 for awhile which is abs...</td>\n",
       "      <td>1.0</td>\n",
       "    </tr>\n",
       "    <tr>\n",
       "      <td>1</td>\n",
       "      <td>B0000SX2UC</td>\n",
       "      <td>Luke Wyatt</td>\n",
       "      <td>1</td>\n",
       "      <td>7-Jan-04</td>\n",
       "      <td>False</td>\n",
       "      <td>Text Messaging Doesn't Work</td>\n",
       "      <td>Due to a software issue between Nokia and Spri...</td>\n",
       "      <td>17.0</td>\n",
       "    </tr>\n",
       "    <tr>\n",
       "      <td>2</td>\n",
       "      <td>B0000SX2UC</td>\n",
       "      <td>Brooke</td>\n",
       "      <td>5</td>\n",
       "      <td>30-Dec-03</td>\n",
       "      <td>False</td>\n",
       "      <td>Love This Phone</td>\n",
       "      <td>This is a great, reliable phone. I also purcha...</td>\n",
       "      <td>5.0</td>\n",
       "    </tr>\n",
       "    <tr>\n",
       "      <td>3</td>\n",
       "      <td>B0000SX2UC</td>\n",
       "      <td>amy m. teague</td>\n",
       "      <td>3</td>\n",
       "      <td>18-Mar-04</td>\n",
       "      <td>False</td>\n",
       "      <td>Love the Phone, BUT...!</td>\n",
       "      <td>I love the phone and all, because I really did...</td>\n",
       "      <td>1.0</td>\n",
       "    </tr>\n",
       "    <tr>\n",
       "      <td>4</td>\n",
       "      <td>B0000SX2UC</td>\n",
       "      <td>tristazbimmer</td>\n",
       "      <td>4</td>\n",
       "      <td>28-Aug-05</td>\n",
       "      <td>False</td>\n",
       "      <td>Great phone service and options, lousy case!</td>\n",
       "      <td>The phone has been great for every purpose it ...</td>\n",
       "      <td>1.0</td>\n",
       "    </tr>\n",
       "    <tr>\n",
       "      <td>...</td>\n",
       "      <td>...</td>\n",
       "      <td>...</td>\n",
       "      <td>...</td>\n",
       "      <td>...</td>\n",
       "      <td>...</td>\n",
       "      <td>...</td>\n",
       "      <td>...</td>\n",
       "      <td>...</td>\n",
       "    </tr>\n",
       "    <tr>\n",
       "      <td>67978</td>\n",
       "      <td>B081H6STQQ</td>\n",
       "      <td>Rock Edge</td>\n",
       "      <td>5</td>\n",
       "      <td>16-Jul-19</td>\n",
       "      <td>False</td>\n",
       "      <td>Candy bar phone is back!</td>\n",
       "      <td>Update 8/14/19 5 stars now! I've been using th...</td>\n",
       "      <td>12.0</td>\n",
       "    </tr>\n",
       "    <tr>\n",
       "      <td>67979</td>\n",
       "      <td>B081H6STQQ</td>\n",
       "      <td>Cindy Cowles</td>\n",
       "      <td>3</td>\n",
       "      <td>17-Jul-19</td>\n",
       "      <td>False</td>\n",
       "      <td>Updated review</td>\n",
       "      <td>Update: If you like sending and receiving pict...</td>\n",
       "      <td>2.0</td>\n",
       "    </tr>\n",
       "    <tr>\n",
       "      <td>67980</td>\n",
       "      <td>B081H6STQQ</td>\n",
       "      <td>Los Kositos</td>\n",
       "      <td>5</td>\n",
       "      <td>7-Oct-19</td>\n",
       "      <td>False</td>\n",
       "      <td>From iPhone to Android and loving it</td>\n",
       "      <td>I love my new phone. I've been dying to do a r...</td>\n",
       "      <td>1.0</td>\n",
       "    </tr>\n",
       "    <tr>\n",
       "      <td>67981</td>\n",
       "      <td>B081H6STQQ</td>\n",
       "      <td>jande</td>\n",
       "      <td>5</td>\n",
       "      <td>16-Aug-19</td>\n",
       "      <td>False</td>\n",
       "      <td>Awesome Phone, but finger scanner is a big mis...</td>\n",
       "      <td>I love the camera on this phone. The screen is...</td>\n",
       "      <td>1.0</td>\n",
       "    </tr>\n",
       "    <tr>\n",
       "      <td>67982</td>\n",
       "      <td>B081H6STQQ</td>\n",
       "      <td>2cool4u</td>\n",
       "      <td>5</td>\n",
       "      <td>14-Sep-19</td>\n",
       "      <td>False</td>\n",
       "      <td>Simply Amazing!</td>\n",
       "      <td>I've been an Xperia user for several years and...</td>\n",
       "      <td>1.0</td>\n",
       "    </tr>\n",
       "  </tbody>\n",
       "</table>\n",
       "<p>27206 rows × 8 columns</p>\n",
       "</div>"
      ],
      "text/plain": [
       "             asin           name  rating       date  verified  \\\n",
       "0      B0000SX2UC          Janet       3  11-Oct-05     False   \n",
       "1      B0000SX2UC     Luke Wyatt       1   7-Jan-04     False   \n",
       "2      B0000SX2UC         Brooke       5  30-Dec-03     False   \n",
       "3      B0000SX2UC  amy m. teague       3  18-Mar-04     False   \n",
       "4      B0000SX2UC  tristazbimmer       4  28-Aug-05     False   \n",
       "...           ...            ...     ...        ...       ...   \n",
       "67978  B081H6STQQ      Rock Edge       5  16-Jul-19     False   \n",
       "67979  B081H6STQQ   Cindy Cowles       3  17-Jul-19     False   \n",
       "67980  B081H6STQQ    Los Kositos       5   7-Oct-19     False   \n",
       "67981  B081H6STQQ          jande       5  16-Aug-19     False   \n",
       "67982  B081H6STQQ        2cool4u       5  14-Sep-19     False   \n",
       "\n",
       "                                                   title  \\\n",
       "0                            Def not best, but not worst   \n",
       "1                            Text Messaging Doesn't Work   \n",
       "2                                        Love This Phone   \n",
       "3                                Love the Phone, BUT...!   \n",
       "4           Great phone service and options, lousy case!   \n",
       "...                                                  ...   \n",
       "67978                           Candy bar phone is back!   \n",
       "67979                                     Updated review   \n",
       "67980               From iPhone to Android and loving it   \n",
       "67981  Awesome Phone, but finger scanner is a big mis...   \n",
       "67982                                    Simply Amazing!   \n",
       "\n",
       "                                                    body  helpfulVotes  \n",
       "0      I had the Samsung A600 for awhile which is abs...           1.0  \n",
       "1      Due to a software issue between Nokia and Spri...          17.0  \n",
       "2      This is a great, reliable phone. I also purcha...           5.0  \n",
       "3      I love the phone and all, because I really did...           1.0  \n",
       "4      The phone has been great for every purpose it ...           1.0  \n",
       "...                                                  ...           ...  \n",
       "67978  Update 8/14/19 5 stars now! I've been using th...          12.0  \n",
       "67979  Update: If you like sending and receiving pict...           2.0  \n",
       "67980  I love my new phone. I've been dying to do a r...           1.0  \n",
       "67981  I love the camera on this phone. The screen is...           1.0  \n",
       "67982  I've been an Xperia user for several years and...           1.0  \n",
       "\n",
       "[27206 rows x 8 columns]"
      ]
     },
     "execution_count": 9,
     "metadata": {},
     "output_type": "execute_result"
    }
   ],
   "source": [
    "data_reviews"
   ]
  },
  {
   "cell_type": "markdown",
   "metadata": {},
   "source": [
    "Understanding the distribution of verified rows:"
   ]
  },
  {
   "cell_type": "code",
   "execution_count": 10,
   "metadata": {},
   "outputs": [
    {
     "data": {
      "text/plain": [
       "True     23154\n",
       "False     4052\n",
       "Name: verified, dtype: int64"
      ]
     },
     "execution_count": 10,
     "metadata": {},
     "output_type": "execute_result"
    }
   ],
   "source": [
    "data_reviews['verified'].value_counts()"
   ]
  },
  {
   "cell_type": "markdown",
   "metadata": {},
   "source": [
    "Since the non-verified rows are not authentic, we can drop those records and keep only the verified ones."
   ]
  },
  {
   "cell_type": "code",
   "execution_count": 11,
   "metadata": {},
   "outputs": [],
   "source": [
    "data_reviews = data_reviews[data_reviews['verified'] == True]"
   ]
  },
  {
   "cell_type": "code",
   "execution_count": 12,
   "metadata": {},
   "outputs": [
    {
     "data": {
      "text/html": [
       "<div>\n",
       "<style scoped>\n",
       "    .dataframe tbody tr th:only-of-type {\n",
       "        vertical-align: middle;\n",
       "    }\n",
       "\n",
       "    .dataframe tbody tr th {\n",
       "        vertical-align: top;\n",
       "    }\n",
       "\n",
       "    .dataframe thead th {\n",
       "        text-align: right;\n",
       "    }\n",
       "</style>\n",
       "<table border=\"1\" class=\"dataframe\">\n",
       "  <thead>\n",
       "    <tr style=\"text-align: right;\">\n",
       "      <th></th>\n",
       "      <th>asin</th>\n",
       "      <th>name</th>\n",
       "      <th>rating</th>\n",
       "      <th>date</th>\n",
       "      <th>verified</th>\n",
       "      <th>title</th>\n",
       "      <th>body</th>\n",
       "      <th>helpfulVotes</th>\n",
       "    </tr>\n",
       "  </thead>\n",
       "  <tbody>\n",
       "    <tr>\n",
       "      <td>43</td>\n",
       "      <td>B001AO4OUC</td>\n",
       "      <td>Elizabeth</td>\n",
       "      <td>4</td>\n",
       "      <td>12-May-09</td>\n",
       "      <td>True</td>\n",
       "      <td>tough little phone</td>\n",
       "      <td>This phone isn't kidding when it says military...</td>\n",
       "      <td>1.0</td>\n",
       "    </tr>\n",
       "    <tr>\n",
       "      <td>44</td>\n",
       "      <td>B001AO4OUC</td>\n",
       "      <td>Ron Malinowski, Jr.</td>\n",
       "      <td>1</td>\n",
       "      <td>19-Nov-12</td>\n",
       "      <td>True</td>\n",
       "      <td>Boost Mobile no Longer allows IDEN service</td>\n",
       "      <td>I bought this phone and found out IDEN phones ...</td>\n",
       "      <td>2.0</td>\n",
       "    </tr>\n",
       "    <tr>\n",
       "      <td>49</td>\n",
       "      <td>B001AO4OUC</td>\n",
       "      <td>PENNY</td>\n",
       "      <td>4</td>\n",
       "      <td>25-Nov-12</td>\n",
       "      <td>True</td>\n",
       "      <td>SIM CARD</td>\n",
       "      <td>PHONE DID NOT COME WITH A SIM CARD....INFORMAT...</td>\n",
       "      <td>1.0</td>\n",
       "    </tr>\n",
       "    <tr>\n",
       "      <td>53</td>\n",
       "      <td>B001AO4OUC</td>\n",
       "      <td>Anthony L. Savarese</td>\n",
       "      <td>1</td>\n",
       "      <td>18-Oct-09</td>\n",
       "      <td>True</td>\n",
       "      <td>Cell</td>\n",
       "      <td>Wouldn't know anything about the cell phone I ...</td>\n",
       "      <td>1.0</td>\n",
       "    </tr>\n",
       "    <tr>\n",
       "      <td>64</td>\n",
       "      <td>B001DCJAJG</td>\n",
       "      <td>Kindle Customer</td>\n",
       "      <td>4</td>\n",
       "      <td>22-Jun-14</td>\n",
       "      <td>True</td>\n",
       "      <td>Good phone...good price.</td>\n",
       "      <td>This was a replacement for the one my mom had ...</td>\n",
       "      <td>2.0</td>\n",
       "    </tr>\n",
       "    <tr>\n",
       "      <td>...</td>\n",
       "      <td>...</td>\n",
       "      <td>...</td>\n",
       "      <td>...</td>\n",
       "      <td>...</td>\n",
       "      <td>...</td>\n",
       "      <td>...</td>\n",
       "      <td>...</td>\n",
       "      <td>...</td>\n",
       "    </tr>\n",
       "    <tr>\n",
       "      <td>67970</td>\n",
       "      <td>B081H6STQQ</td>\n",
       "      <td>SoundFreak</td>\n",
       "      <td>1</td>\n",
       "      <td>23-Jul-19</td>\n",
       "      <td>True</td>\n",
       "      <td>DO NOT BUY ( Especially if using TMobile ) !!!...</td>\n",
       "      <td>update Nov 4, 2019 This phone is crap if you a...</td>\n",
       "      <td>7.0</td>\n",
       "    </tr>\n",
       "    <tr>\n",
       "      <td>67971</td>\n",
       "      <td>B081H6STQQ</td>\n",
       "      <td>Bialynia</td>\n",
       "      <td>5</td>\n",
       "      <td>14-Jul-19</td>\n",
       "      <td>True</td>\n",
       "      <td>Great phone (for me)</td>\n",
       "      <td>All the manufacturer's make great phones, so p...</td>\n",
       "      <td>6.0</td>\n",
       "    </tr>\n",
       "    <tr>\n",
       "      <td>67972</td>\n",
       "      <td>B081H6STQQ</td>\n",
       "      <td>Aucifer</td>\n",
       "      <td>5</td>\n",
       "      <td>17-Jul-19</td>\n",
       "      <td>True</td>\n",
       "      <td>Best Screen on a phone 2019</td>\n",
       "      <td>Coming from sony xperia XZ Premium is a nice u...</td>\n",
       "      <td>3.0</td>\n",
       "    </tr>\n",
       "    <tr>\n",
       "      <td>67973</td>\n",
       "      <td>B081H6STQQ</td>\n",
       "      <td>Gclancer</td>\n",
       "      <td>5</td>\n",
       "      <td>14-Aug-19</td>\n",
       "      <td>True</td>\n",
       "      <td>Much improved Sony phone</td>\n",
       "      <td>Beautiful phone, gorgeous display, fast near s...</td>\n",
       "      <td>2.0</td>\n",
       "    </tr>\n",
       "    <tr>\n",
       "      <td>67974</td>\n",
       "      <td>B081H6STQQ</td>\n",
       "      <td>Pierre</td>\n",
       "      <td>3</td>\n",
       "      <td>3-Oct-19</td>\n",
       "      <td>True</td>\n",
       "      <td>I'm not impressed</td>\n",
       "      <td>For this price you get a good display and a ma...</td>\n",
       "      <td>1.0</td>\n",
       "    </tr>\n",
       "  </tbody>\n",
       "</table>\n",
       "<p>23154 rows × 8 columns</p>\n",
       "</div>"
      ],
      "text/plain": [
       "             asin                 name  rating       date  verified  \\\n",
       "43     B001AO4OUC            Elizabeth       4  12-May-09      True   \n",
       "44     B001AO4OUC  Ron Malinowski, Jr.       1  19-Nov-12      True   \n",
       "49     B001AO4OUC                PENNY       4  25-Nov-12      True   \n",
       "53     B001AO4OUC  Anthony L. Savarese       1  18-Oct-09      True   \n",
       "64     B001DCJAJG      Kindle Customer       4  22-Jun-14      True   \n",
       "...           ...                  ...     ...        ...       ...   \n",
       "67970  B081H6STQQ           SoundFreak       1  23-Jul-19      True   \n",
       "67971  B081H6STQQ             Bialynia       5  14-Jul-19      True   \n",
       "67972  B081H6STQQ              Aucifer       5  17-Jul-19      True   \n",
       "67973  B081H6STQQ             Gclancer       5  14-Aug-19      True   \n",
       "67974  B081H6STQQ               Pierre       3   3-Oct-19      True   \n",
       "\n",
       "                                                   title  \\\n",
       "43                                    tough little phone   \n",
       "44            Boost Mobile no Longer allows IDEN service   \n",
       "49                                              SIM CARD   \n",
       "53                                                  Cell   \n",
       "64                              Good phone...good price.   \n",
       "...                                                  ...   \n",
       "67970  DO NOT BUY ( Especially if using TMobile ) !!!...   \n",
       "67971                               Great phone (for me)   \n",
       "67972                        Best Screen on a phone 2019   \n",
       "67973                           Much improved Sony phone   \n",
       "67974                                  I'm not impressed   \n",
       "\n",
       "                                                    body  helpfulVotes  \n",
       "43     This phone isn't kidding when it says military...           1.0  \n",
       "44     I bought this phone and found out IDEN phones ...           2.0  \n",
       "49     PHONE DID NOT COME WITH A SIM CARD....INFORMAT...           1.0  \n",
       "53     Wouldn't know anything about the cell phone I ...           1.0  \n",
       "64     This was a replacement for the one my mom had ...           2.0  \n",
       "...                                                  ...           ...  \n",
       "67970  update Nov 4, 2019 This phone is crap if you a...           7.0  \n",
       "67971  All the manufacturer's make great phones, so p...           6.0  \n",
       "67972  Coming from sony xperia XZ Premium is a nice u...           3.0  \n",
       "67973  Beautiful phone, gorgeous display, fast near s...           2.0  \n",
       "67974  For this price you get a good display and a ma...           1.0  \n",
       "\n",
       "[23154 rows x 8 columns]"
      ]
     },
     "execution_count": 12,
     "metadata": {},
     "output_type": "execute_result"
    }
   ],
   "source": [
    "data_reviews"
   ]
  },
  {
   "cell_type": "code",
   "execution_count": 13,
   "metadata": {},
   "outputs": [
    {
     "data": {
      "text/plain": [
       "True    23154\n",
       "Name: verified, dtype: int64"
      ]
     },
     "execution_count": 13,
     "metadata": {},
     "output_type": "execute_result"
    }
   ],
   "source": [
    "#verification:\n",
    "data_reviews['verified'].value_counts()"
   ]
  },
  {
   "cell_type": "markdown",
   "metadata": {},
   "source": [
    "Reviewing the price of items:"
   ]
  },
  {
   "cell_type": "code",
   "execution_count": 14,
   "metadata": {},
   "outputs": [
    {
     "data": {
      "text/plain": [
       "0.00      123\n",
       "99.99       8\n",
       "249.99      8\n",
       "129.99      7\n",
       "399.99      7\n",
       "         ... \n",
       "139.97      1\n",
       "351.87      1\n",
       "309.95      1\n",
       "275.99      1\n",
       "354.99      1\n",
       "Name: price, Length: 451, dtype: int64"
      ]
     },
     "execution_count": 14,
     "metadata": {},
     "output_type": "execute_result"
    }
   ],
   "source": [
    "data_items['price'].value_counts()"
   ]
  },
  {
   "cell_type": "markdown",
   "metadata": {},
   "source": [
    "We can see that there are 123 items with price 0 which do not make sense. So, dropping these items with no price."
   ]
  },
  {
   "cell_type": "code",
   "execution_count": 15,
   "metadata": {},
   "outputs": [],
   "source": [
    "data_items = data_items[data_items['price'] != 0]"
   ]
  },
  {
   "cell_type": "code",
   "execution_count": 16,
   "metadata": {},
   "outputs": [
    {
     "data": {
      "text/plain": [
       "99.99     8\n",
       "249.99    8\n",
       "129.99    7\n",
       "499.99    7\n",
       "399.99    7\n",
       "         ..\n",
       "310.99    1\n",
       "139.97    1\n",
       "351.87    1\n",
       "309.95    1\n",
       "174.95    1\n",
       "Name: price, Length: 450, dtype: int64"
      ]
     },
     "execution_count": 16,
     "metadata": {},
     "output_type": "execute_result"
    }
   ],
   "source": [
    "#verification:\n",
    "data_items['price'].value_counts()"
   ]
  },
  {
   "cell_type": "code",
   "execution_count": 17,
   "metadata": {},
   "outputs": [
    {
     "data": {
      "text/html": [
       "<div>\n",
       "<style scoped>\n",
       "    .dataframe tbody tr th:only-of-type {\n",
       "        vertical-align: middle;\n",
       "    }\n",
       "\n",
       "    .dataframe tbody tr th {\n",
       "        vertical-align: top;\n",
       "    }\n",
       "\n",
       "    .dataframe thead th {\n",
       "        text-align: right;\n",
       "    }\n",
       "</style>\n",
       "<table border=\"1\" class=\"dataframe\">\n",
       "  <thead>\n",
       "    <tr style=\"text-align: right;\">\n",
       "      <th></th>\n",
       "      <th>Product Name</th>\n",
       "      <th>Brand Name</th>\n",
       "    </tr>\n",
       "  </thead>\n",
       "  <tbody>\n",
       "    <tr>\n",
       "      <td>0</td>\n",
       "      <td>\"CLEAR CLEAN ESN\" Sprint EPIC 4G Galaxy SPH-D7...</td>\n",
       "      <td>Samsung</td>\n",
       "    </tr>\n",
       "    <tr>\n",
       "      <td>1</td>\n",
       "      <td>\"CLEAR CLEAN ESN\" Sprint EPIC 4G Galaxy SPH-D7...</td>\n",
       "      <td>Samsung</td>\n",
       "    </tr>\n",
       "    <tr>\n",
       "      <td>2</td>\n",
       "      <td>\"CLEAR CLEAN ESN\" Sprint EPIC 4G Galaxy SPH-D7...</td>\n",
       "      <td>Samsung</td>\n",
       "    </tr>\n",
       "    <tr>\n",
       "      <td>3</td>\n",
       "      <td>\"CLEAR CLEAN ESN\" Sprint EPIC 4G Galaxy SPH-D7...</td>\n",
       "      <td>Samsung</td>\n",
       "    </tr>\n",
       "    <tr>\n",
       "      <td>4</td>\n",
       "      <td>\"CLEAR CLEAN ESN\" Sprint EPIC 4G Galaxy SPH-D7...</td>\n",
       "      <td>Samsung</td>\n",
       "    </tr>\n",
       "    <tr>\n",
       "      <td>...</td>\n",
       "      <td>...</td>\n",
       "      <td>...</td>\n",
       "    </tr>\n",
       "    <tr>\n",
       "      <td>413835</td>\n",
       "      <td>Samsung Convoy U640 Phone for Verizon Wireless...</td>\n",
       "      <td>Samsung</td>\n",
       "    </tr>\n",
       "    <tr>\n",
       "      <td>413836</td>\n",
       "      <td>Samsung Convoy U640 Phone for Verizon Wireless...</td>\n",
       "      <td>Samsung</td>\n",
       "    </tr>\n",
       "    <tr>\n",
       "      <td>413837</td>\n",
       "      <td>Samsung Convoy U640 Phone for Verizon Wireless...</td>\n",
       "      <td>Samsung</td>\n",
       "    </tr>\n",
       "    <tr>\n",
       "      <td>413838</td>\n",
       "      <td>Samsung Convoy U640 Phone for Verizon Wireless...</td>\n",
       "      <td>Samsung</td>\n",
       "    </tr>\n",
       "    <tr>\n",
       "      <td>413839</td>\n",
       "      <td>Samsung Convoy U640 Phone for Verizon Wireless...</td>\n",
       "      <td>Samsung</td>\n",
       "    </tr>\n",
       "  </tbody>\n",
       "</table>\n",
       "<p>348669 rows × 2 columns</p>\n",
       "</div>"
      ],
      "text/plain": [
       "                                             Product Name Brand Name\n",
       "0       \"CLEAR CLEAN ESN\" Sprint EPIC 4G Galaxy SPH-D7...    Samsung\n",
       "1       \"CLEAR CLEAN ESN\" Sprint EPIC 4G Galaxy SPH-D7...    Samsung\n",
       "2       \"CLEAR CLEAN ESN\" Sprint EPIC 4G Galaxy SPH-D7...    Samsung\n",
       "3       \"CLEAR CLEAN ESN\" Sprint EPIC 4G Galaxy SPH-D7...    Samsung\n",
       "4       \"CLEAR CLEAN ESN\" Sprint EPIC 4G Galaxy SPH-D7...    Samsung\n",
       "...                                                   ...        ...\n",
       "413835  Samsung Convoy U640 Phone for Verizon Wireless...    Samsung\n",
       "413836  Samsung Convoy U640 Phone for Verizon Wireless...    Samsung\n",
       "413837  Samsung Convoy U640 Phone for Verizon Wireless...    Samsung\n",
       "413838  Samsung Convoy U640 Phone for Verizon Wireless...    Samsung\n",
       "413839  Samsung Convoy U640 Phone for Verizon Wireless...    Samsung\n",
       "\n",
       "[348669 rows x 2 columns]"
      ]
     },
     "execution_count": 17,
     "metadata": {},
     "output_type": "execute_result"
    }
   ],
   "source": [
    "data_Amazon_Unlocked_Mobile"
   ]
  },
  {
   "cell_type": "markdown",
   "metadata": {},
   "source": [
    "#### Aggregation"
   ]
  },
  {
   "cell_type": "markdown",
   "metadata": {},
   "source": [
    "Getting the count of possible products for each brand to map to the other 2 datasets:"
   ]
  },
  {
   "cell_type": "code",
   "execution_count": 18,
   "metadata": {},
   "outputs": [],
   "source": [
    "data_Amazon_Unlocked_New = data_Amazon_Unlocked_Mobile.groupby('Brand Name')['Product Name'].nunique().reset_index(name = 'Product Count/Brand')"
   ]
  },
  {
   "cell_type": "markdown",
   "metadata": {},
   "source": [
    "#### Renaming the columns and keeping only the required columns from all datasets:"
   ]
  },
  {
   "cell_type": "code",
   "execution_count": 19,
   "metadata": {},
   "outputs": [],
   "source": [
    "data_items = data_items[['asin','brand','title','price','originalPrice','rating']].rename(columns={'asin': 'ItemId', 'brand': 'Brand Name','title': 'ItemName','originalPrice': 'OriginalPrice','price':'ItemPrice','rating':'Rating'}) "
   ]
  },
  {
   "cell_type": "code",
   "execution_count": 20,
   "metadata": {},
   "outputs": [],
   "source": [
    "data_reviews = data_reviews[['asin','date', 'rating']].rename(columns = {'asin': 'ItemId','date': 'ReviewDate', 'rating': 'Rating' })"
   ]
  },
  {
   "cell_type": "markdown",
   "metadata": {},
   "source": [
    "#### Combining all the three Dataframes into one"
   ]
  },
  {
   "cell_type": "code",
   "execution_count": 21,
   "metadata": {},
   "outputs": [
    {
     "data": {
      "text/html": [
       "<div>\n",
       "<style scoped>\n",
       "    .dataframe tbody tr th:only-of-type {\n",
       "        vertical-align: middle;\n",
       "    }\n",
       "\n",
       "    .dataframe tbody tr th {\n",
       "        vertical-align: top;\n",
       "    }\n",
       "\n",
       "    .dataframe thead th {\n",
       "        text-align: right;\n",
       "    }\n",
       "</style>\n",
       "<table border=\"1\" class=\"dataframe\">\n",
       "  <thead>\n",
       "    <tr style=\"text-align: right;\">\n",
       "      <th></th>\n",
       "      <th>ItemId</th>\n",
       "      <th>ReviewDate</th>\n",
       "      <th>Rating</th>\n",
       "    </tr>\n",
       "  </thead>\n",
       "  <tbody>\n",
       "    <tr>\n",
       "      <td>43</td>\n",
       "      <td>B001AO4OUC</td>\n",
       "      <td>12-May-09</td>\n",
       "      <td>4</td>\n",
       "    </tr>\n",
       "    <tr>\n",
       "      <td>44</td>\n",
       "      <td>B001AO4OUC</td>\n",
       "      <td>19-Nov-12</td>\n",
       "      <td>1</td>\n",
       "    </tr>\n",
       "    <tr>\n",
       "      <td>49</td>\n",
       "      <td>B001AO4OUC</td>\n",
       "      <td>25-Nov-12</td>\n",
       "      <td>4</td>\n",
       "    </tr>\n",
       "    <tr>\n",
       "      <td>53</td>\n",
       "      <td>B001AO4OUC</td>\n",
       "      <td>18-Oct-09</td>\n",
       "      <td>1</td>\n",
       "    </tr>\n",
       "    <tr>\n",
       "      <td>64</td>\n",
       "      <td>B001DCJAJG</td>\n",
       "      <td>22-Jun-14</td>\n",
       "      <td>4</td>\n",
       "    </tr>\n",
       "  </tbody>\n",
       "</table>\n",
       "</div>"
      ],
      "text/plain": [
       "        ItemId ReviewDate  Rating\n",
       "43  B001AO4OUC  12-May-09       4\n",
       "44  B001AO4OUC  19-Nov-12       1\n",
       "49  B001AO4OUC  25-Nov-12       4\n",
       "53  B001AO4OUC  18-Oct-09       1\n",
       "64  B001DCJAJG  22-Jun-14       4"
      ]
     },
     "execution_count": 21,
     "metadata": {},
     "output_type": "execute_result"
    }
   ],
   "source": [
    "data_reviews.head()"
   ]
  },
  {
   "cell_type": "code",
   "execution_count": 22,
   "metadata": {},
   "outputs": [
    {
     "name": "stderr",
     "output_type": "stream",
     "text": [
      "C:\\Users\\shweta shukla\\Anaconda3\\lib\\site-packages\\pandas\\core\\reshape\\merge.py:1089: UserWarning: You are merging on int and float columns where the float values are not equal to their int representation\n",
      "  UserWarning,\n"
     ]
    }
   ],
   "source": [
    "data_Final = data_items.merge(data_reviews, on = ['ItemId','Rating'])\n",
    "data_Final = data_Final.merge(data_Amazon_Unlocked_New, on = 'Brand Name', how = 'inner')"
   ]
  },
  {
   "cell_type": "code",
   "execution_count": 23,
   "metadata": {},
   "outputs": [
    {
     "data": {
      "text/plain": [
       "(281, 8)"
      ]
     },
     "execution_count": 23,
     "metadata": {},
     "output_type": "execute_result"
    }
   ],
   "source": [
    "data_Final.shape"
   ]
  },
  {
   "cell_type": "code",
   "execution_count": 24,
   "metadata": {},
   "outputs": [
    {
     "data": {
      "text/plain": [
       "<bound method NDFrame.head of          ItemId Brand Name                                           ItemName  \\\n",
       "0    B0096DERAG   Motorola  Motorola MC75A Hand Held Computer Windows Mobi...   \n",
       "1    B0096QYH80   Motorola  Motorola Droid RAZR M XT907 Verizon Wireless, ...   \n",
       "2    B0096QYH80   Motorola  Motorola Droid RAZR M XT907 Verizon Wireless, ...   \n",
       "3    B0096QYH80   Motorola  Motorola Droid RAZR M XT907 Verizon Wireless, ...   \n",
       "4    B0096QYH80   Motorola  Motorola Droid RAZR M XT907 Verizon Wireless, ...   \n",
       "..          ...        ...                                                ...   \n",
       "276  B07K64PTLP     Xiaomi  Xiaomi Mi 8 Pro (128GB, 8GB RAM) with In-Scree...   \n",
       "277  B07K64PTLP     Xiaomi  Xiaomi Mi 8 Pro (128GB, 8GB RAM) with In-Scree...   \n",
       "278  B07Y336C8S     Xiaomi  Xiaomi Mi 9 Lite 64GB + 6GB RAM, 6.39” AMOLED ...   \n",
       "279  B07Y336C8S     Xiaomi  Xiaomi Mi 9 Lite 64GB + 6GB RAM, 6.39” AMOLED ...   \n",
       "280  B07ZGHYFZ4     Xiaomi  Xiaomi Mi Note 10 128GB 108MP Penta Camera 6.4...   \n",
       "\n",
       "     ItemPrice  OriginalPrice  Rating ReviewDate  Product Count/Brand  \n",
       "0       499.95           0.00     1.0  24-Feb-16                  186  \n",
       "1       349.99           0.00     3.0  15-Feb-15                  186  \n",
       "2       349.99           0.00     3.0  27-Jun-13                  186  \n",
       "3       349.99           0.00     3.0   6-Oct-14                  186  \n",
       "4       349.99           0.00     3.0   6-Feb-15                  186  \n",
       "..         ...            ...     ...        ...                  ...  \n",
       "276     293.99           0.00     4.0   1-Sep-19                    1  \n",
       "277     293.99           0.00     4.0   3-May-19                    1  \n",
       "278     248.00           0.00     5.0  21-Dec-19                    1  \n",
       "279     248.00           0.00     5.0  20-Dec-19                    1  \n",
       "280     486.57         514.82     5.0  20-Dec-19                    1  \n",
       "\n",
       "[281 rows x 8 columns]>"
      ]
     },
     "execution_count": 24,
     "metadata": {},
     "output_type": "execute_result"
    }
   ],
   "source": [
    "data_Final.head"
   ]
  },
  {
   "cell_type": "code",
   "execution_count": 26,
   "metadata": {},
   "outputs": [],
   "source": [
    "data_Final.drop(\"OriginalPrice\", axis=1, inplace=True)"
   ]
  },
  {
   "cell_type": "code",
   "execution_count": 27,
   "metadata": {},
   "outputs": [],
   "source": [
    "data_Final.to_csv(\"output_ratings.csv\", index=False)"
   ]
  },
  {
   "cell_type": "code",
   "execution_count": null,
   "metadata": {},
   "outputs": [],
   "source": [
    "#create table script:\n",
    "\n",
    "CREATE TABLE Amazon_Review_Ratings(\n",
    "'ItemId'   VARCHAR (255) NOT NULL,\n",
    "'BrandName' VARCHAR (255) NULL,\n",
    "'ItemName' VARCHAR (255)  NULL,\n",
    "'ItemPrice' NUMERIC (15, 2) NOT NULL,\n",
    "'OriginalPrice' NUMERIC (15, 2) NULL,\n",
    "'ReviewDate' date NULL,\n",
    "'Product Count/Brand'   VARCHAR (255) NULL,\n",
    "'Rating' DECIMAL (1)\n",
    ");"
   ]
  }
 ],
 "metadata": {
  "kernelspec": {
   "display_name": "Python 3",
   "language": "python",
   "name": "python3"
  },
  "language_info": {
   "codemirror_mode": {
    "name": "ipython",
    "version": 3
   },
   "file_extension": ".py",
   "mimetype": "text/x-python",
   "name": "python",
   "nbconvert_exporter": "python",
   "pygments_lexer": "ipython3",
   "version": "3.7.4"
  }
 },
 "nbformat": 4,
 "nbformat_minor": 4
}
